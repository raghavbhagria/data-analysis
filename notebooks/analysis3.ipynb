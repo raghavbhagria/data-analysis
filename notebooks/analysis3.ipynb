{
 "cells": [
  {
   "cell_type": "markdown",
   "metadata": {},
   "source": [
<<<<<<< HEAD
    "# Jusnoor Kaur Sachdeva\n"
=======
    "# Your Name Here"
>>>>>>> 9d719b3b87eb9b5f8290cb43aa818f7bd4bcab29
   ]
  },
  {
   "cell_type": "markdown",
   "metadata": {},
   "source": [
    "## Research question/interests\r\n",
<<<<<<< HEAD
    "# The main interest to study the dataset is to get an understanding about the airplane crashes and the various reasons associated with the same. The task is to know about safety measures and the precautions required to keep in mind to face different situations in order to keep the passengers safe.e."
   ]
  }
 ],
 "metadata": {
  "kernelspec": {
   "display_name": "Python 3 (ipykernel)",
   "language": "python",
   "name": "python3"
  },
  "language_info": {
   "codemirror_mode": {
    "name": "ipython",
    "version": 3
   },
   "file_extension": ".py",
   "mimetype": "text/x-python",
   "name": "python",
   "nbconvert_exporter": "python",
   "pygments_lexer": "ipython3",
   "version": "3.8.5"
  }
 },
 "nbformat": 4,
 "nbformat_minor": 4
=======
    "\r\n",
    "Briefly describe your research question or interests here."
   ]
  }
 ],
 "metadata": {},
 "nbformat": 4,
 "nbformat_minor": 2
>>>>>>> 9d719b3b87eb9b5f8290cb43aa818f7bd4bcab29
}
