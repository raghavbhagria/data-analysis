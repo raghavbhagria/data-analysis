{
 "cells": [
  {
   "cell_type": "markdown",
   "metadata": {},
   "source": [
<<<<<<< HEAD
    "# Your Name Here"
=======
    "# Raghav Bhagria"
>>>>>>> 9d719b3b87eb9b5f8290cb43aa818f7bd4bcab29
   ]
  },
  {
   "cell_type": "markdown",
   "metadata": {},
   "source": [
<<<<<<< HEAD
    "## Research question/interests\r\n",
    "\r\n",
    "Briefly describe your research question or interests here."
=======
    "## The research question I am particularly interested in is about the trend in the air crashes with main emphasis on the reason behind the crashes. "
>>>>>>> 9d719b3b87eb9b5f8290cb43aa818f7bd4bcab29
   ]
  }
 ],
 "metadata": {
  "kernelspec": {
<<<<<<< HEAD
   "display_name": "Python 3 (ipykernel)",
   "language": "python",
   "name": "python3"
  },
  "language_info": {
   "codemirror_mode": {
    "name": "ipython",
    "version": 3
   },
   "file_extension": ".py",
   "mimetype": "text/x-python",
   "name": "python",
   "nbconvert_exporter": "python",
   "pygments_lexer": "ipython3",
   "version": "3.8.5"
  }
 },
 "nbformat": 4,
 "nbformat_minor": 4
=======
   "display_name": "Python 3.10.2 64-bit",
   "language": "python",
   "name": "python3"
  }
 },
 "nbformat": 4,
 "nbformat_minor": 2
>>>>>>> 9d719b3b87eb9b5f8290cb43aa818f7bd4bcab29
}
