{
 "cells": [
  {
   "cell_type": "code",
   "execution_count": null,
   "metadata": {},
   "outputs": [],
   "source": [
    "##Raghav Bhagria \n",
    "\n",
    "#The research question I am particularly interested in is that what is the main trend in all these crashes with main emphasis on the plane model "
   ]
  }
 ],
 "metadata": {},
 "nbformat": 4,
 "nbformat_minor": 2
}
