{
 "cells": [
  {
   "cell_type": "markdown",
   "id": "db5b7400-caa4-440b-97d5-96bcae05496d",
   "metadata": {},
   "source": [
    "# Sumer Mann"
   ]
  },
  {
   "cell_type": "markdown",
   "id": "233f6bb6-11bb-4880-921d-373d17e7ab18",
   "metadata": {},
   "source": [
    " #### I am interested in knowing the trends in air plane crashes and trying to find ways to ensure more safety and better air-travel expirence "
   ]
  }
 ],
 "metadata": {
  "kernelspec": {
   "display_name": "Python 3",
   "language": "python",
   "name": "python3"
  },
  "language_info": {
   "codemirror_mode": {
    "name": "ipython",
    "version": 3
   },
   "file_extension": ".py",
   "mimetype": "text/x-python",
   "name": "python",
   "nbconvert_exporter": "python",
   "pygments_lexer": "ipython3",
   "version": "3.9.12"
  }
 },
 "nbformat": 4,
 "nbformat_minor": 5
}
