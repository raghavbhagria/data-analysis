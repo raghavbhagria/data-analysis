{
 "cells": [
  {
   "cell_type": "markdown",
   "metadata": {},
   "source": [
<<<<<<< HEAD
    "# Sumer Mann"
=======
    "# Your Name Here"
>>>>>>> a98a70f98224953e58eeba30890be24c6b061bd4
   ]
  },
  {
   "cell_type": "markdown",
   "metadata": {},
   "source": [
<<<<<<< HEAD
    "## Research question/interests\n",
    "\n",
    "My main interests is to see a trend in air plane crashes and find out ways in which air travel can be made safer in coming years."
   ]
  },
  {
   "cell_type": "code",
   "execution_count": null,
   "metadata": {},
   "outputs": [],
   "source": []
  }
 ],
 "metadata": {
  "kernelspec": {
   "display_name": "Python 3 (ipykernel)",
   "language": "python",
   "name": "python3"
  },
  "language_info": {
   "codemirror_mode": {
    "name": "ipython",
    "version": 3
   },
   "file_extension": ".py",
   "mimetype": "text/x-python",
   "name": "python",
   "nbconvert_exporter": "python",
   "pygments_lexer": "ipython3",
   "version": "3.9.12"
  }
 },
 "nbformat": 4,
 "nbformat_minor": 4
=======
    "## Research question/interests\r\n",
    "\r\n",
    "Briefly describe your research question or interests here."
   ]
  }
 ],
 "metadata": {},
 "nbformat": 4,
 "nbformat_minor": 2
>>>>>>> a98a70f98224953e58eeba30890be24c6b061bd4
}
