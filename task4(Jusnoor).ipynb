{
 "cells": [
  {
   "cell_type": "code",
   "execution_count": 2,
   "id": "7e456cc7-22aa-4e0a-9fdb-e811cf757665",
   "metadata": {},
   "outputs": [
    {
     "name": "stdout",
     "output_type": "stream",
     "text": [
      "           date   time                                           Location  \\\n",
      "0    01/03/2004   4:44                         Off Sharm el Sheikh, Egypt   \n",
      "1    01/13/2004  19:40                               Tashkent, Uzbekistan   \n",
      "2    01/17/2004  16:40       Lake Erie, off Pelee Island, Ontario, Canada   \n",
      "3    01/28/2004  20:55                                  Ghardaïa, Algeria   \n",
      "4    02/06/2004   8:01                        Bitonja, Bosnia-Herzegovina   \n",
      "..          ...    ...                                                ...   \n",
      "296  05/20/2009   6:30                             Near Madiun, Indonesia   \n",
      "297  05/26/2009    NaN                  Near Isiro, DemocratiRepubliCongo   \n",
      "298  06/01/2009   0:15  AtlantiOcean, 570 miles northeast of Natal, Br...   \n",
      "299  06/07/2009   8:30       Near Port Hope Simpson, Newfoundland, Canada   \n",
      "300  06/08/2009    NaN                  State of Arunachal Pradesh, India   \n",
      "\n",
      "                               Operator  \\\n",
      "0                             Flash Air   \n",
      "1                    Uzbekistan Airways   \n",
      "2                       Georgia Express   \n",
      "3                      Tassili Airlines   \n",
      "4    Military - Government of Macedonia   \n",
      "..                                  ...   \n",
      "296     Military - Indonesian Air Force   \n",
      "297                         Service Air   \n",
      "298                          Air France   \n",
      "299                          Strait Air   \n",
      "300         Military - Indian Air Force   \n",
      "\n",
      "                                         route  \\\n",
      "0        Sharm el Sheikh, Egypt - Cairo, Egypt   \n",
      "1                            Termez - Tashkent   \n",
      "2     Pelee Island, Ontario - Windsor, Ontario   \n",
      "3                       Hassi R'Mel - Ghardaïa   \n",
      "4                              Skopje - Mostar   \n",
      "..                                         ...   \n",
      "296                           Jakarta - Maduin   \n",
      "297                               Goma - Isiro   \n",
      "298                     Rio de Janeiro - Paris   \n",
      "299  Lourdes de BlanSablon - Port Hope Simpson   \n",
      "300                         Mechuka for Jorhat   \n",
      "\n",
      "                                 type registeration  Aboard  Fatilities  \\\n",
      "0                    Boeing B-737-3Q8        SU-ZCF     148         148   \n",
      "1                     Yakovlev YAK-40      UK-87985      37          37   \n",
      "2           Cessna 208B Grand Caravan        C-FAGA      10          10   \n",
      "3                    Beechcraft 1900D        7T-VIN       5           1   \n",
      "4       Beechcraft Super King Air 200        Z3-BAB       9           9   \n",
      "..                                ...           ...     ...         ...   \n",
      "296           Lockheed C-130 Hercules        A-1325     112          98   \n",
      "297                     Antonov An-26        9Q-CSA       4           4   \n",
      "298                   Airbus A330-203        F-GZCP     228         228   \n",
      "299  Britten-Norman BN-2A-27 Islander       C-FJJR        1           1   \n",
      "300                     Antonov An-32           NaN      13          13   \n",
      "\n",
      "     Ground                                            Summary  \n",
      "0       0.0  Shortly after taking off,  the aircraft crashe...  \n",
      "1       0.0  Crashed while attempting to land in heavy fog....  \n",
      "2       0.0  he pilot reported having trouble shortly after...  \n",
      "3       0.0  While on approach by night, the crew lost cont...  \n",
      "4       0.0  The twin engine aircraft crashed in the southe...  \n",
      "..      ...                                                ...  \n",
      "296     2.0  While on approach, the military transport cras...  \n",
      "297     NaN  The cargo plane crashed while on approach to I...  \n",
      "298     0.0  The Airbus went missing over the AtlantiOcean ...  \n",
      "299     0.0  The air ambulance crashed into hills while att...  \n",
      "300     0.0  The military transport went missing while en r...  \n",
      "\n",
      "[301 rows x 11 columns]\n"
     ]
    }
   ],
   "source": [
    "import pandas as pd\n",
    "data = pd.read_csv('/Users/jusnoorkaursachdeva/Desktop/school/year1/summer/cosc301/project-group46/data/processed/COSC301_dataset - Sheet1.csv')\n",
    "print(data)"
   ]
  },
  {
   "cell_type": "code",
   "execution_count": null,
   "id": "afd197d0-fa02-4f80-9af4-8c931dd412e2",
   "metadata": {},
   "outputs": [],
   "source": []
  },
  {
   "cell_type": "code",
   "execution_count": null,
   "id": "17fb5084-3f81-450b-8d5e-811e32a37112",
   "metadata": {},
   "outputs": [],
   "source": []
  },
  {
   "cell_type": "code",
   "execution_count": null,
   "id": "4802e67e-14b9-4761-a482-82fcdd467065",
   "metadata": {},
   "outputs": [],
   "source": []
  }
 ],
 "metadata": {
  "kernelspec": {
   "display_name": "Python 3 (ipykernel)",
   "language": "python",
   "name": "python3"
  },
  "language_info": {
   "codemirror_mode": {
    "name": "ipython",
    "version": 3
   },
   "file_extension": ".py",
   "mimetype": "text/x-python",
   "name": "python",
   "nbconvert_exporter": "python",
   "pygments_lexer": "ipython3",
   "version": "3.8.5"
  }
 },
 "nbformat": 4,
 "nbformat_minor": 5
}
