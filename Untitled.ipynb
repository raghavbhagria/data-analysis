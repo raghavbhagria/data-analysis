{
 "cells": [
  {
   "cell_type": "code",
   "execution_count": null,
   "id": "844d28f2-381c-4b7e-8d6d-bb06725517ae",
   "metadata": {},
   "outputs": [
    {
     "ename": "SyntaxError",
     "evalue": "(unicode error) 'unicodeescape' codec can't decode bytes in position 2-3: truncated \\UXXXXXXXX escape (2799432585.py, line 2)",
     "output_type": "error",
     "traceback": [
      "\u001b[1;36m  Cell \u001b[1;32mIn [2], line 2\u001b[1;36m\u001b[0m\n\u001b[1;33m    f1=pd.read_csv('C:\\Users\\hp\\Desktop\\COSC301\\project-group46\\data\\processed\\COSC301_dataset - Sheet1.csv')\u001b[0m\n\u001b[1;37m                                                                                                            ^\u001b[0m\n\u001b[1;31mSyntaxError\u001b[0m\u001b[1;31m:\u001b[0m (unicode error) 'unicodeescape' codec can't decode bytes in position 2-3: truncated \\UXXXXXXXX escape\n"
     ]
    }
   ],
   "source": [
    "import pandas as pd\n",
    "f1=pd.read_csv('C:\\Users\\hp\\Desktop\\COSC301\\project-group46\\data\\processed\\COSC301_dataset - Sheet1.csv')\n",
    "print(f1)"
   ]
  },
  {
   "cell_type": "code",
   "execution_count": null,
   "id": "07b97a23-88ee-4e63-b3a4-a40e9c447486",
   "metadata": {},
   "outputs": [],
   "source": []
  }
 ],
 "metadata": {
  "kernelspec": {
   "display_name": "Python 3 (ipykernel)",
   "language": "python",
   "name": "python3"
  }
 },
 "nbformat": 4,
 "nbformat_minor": 5
}
