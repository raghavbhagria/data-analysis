{
 "cells": [
  {
   "cell_type": "code",
   "execution_count": 1,
   "id": "844d28f2-381c-4b7e-8d6d-bb06725517ae",
   "metadata": {},
   "outputs": [
    {
     "name": "stdout",
     "output_type": "stream",
     "text": [
      "                                                                                                                                                                                                                                                                                              <<<<<<< HEAD\n",
      "date                                             time  Location                                           Operator                    route                                     type                             registeration Aboard Fatilities Ground                                            Summary\n",
      "01/03/2004                                       4:44  Off Sharm el Sheikh, Egypt                         Flash Air                   Sharm el Sheikh, Egypt - Cairo, Egypt     Boeing B-737-3Q8                 SU-ZCF        148    148        0       Shortly after taking off,  the aircraft crashe...\n",
      "01/13/2004                                       19:40 Tashkent, Uzbekistan                               Uzbekistan Airways          Termez - Tashkent                         Yakovlev YAK-40                  UK-87985      37     37         0       Crashed while attempting to land in heavy fog....\n",
      "01/17/2004                                       16:40 Lake Erie, off Pelee Island, Ontario, Canada       Georgia Express             Pelee Island, Ontario - Windsor, Ontario  Cessna 208B Grand Caravan        C-FAGA        10     10         0       he pilot reported having trouble shortly after...\n",
      "01/28/2004                                       20:55 Ghardaïa, Algeria                                  Tassili Airlines            Hassi R'Mel - Ghardaïa                    Beechcraft 1900D                 7T-VIN        5      1          0       While on approach by night, the crew lost cont...\n",
      "...                                                                                                                                                                                                                                                                                                    ...\n",
      "05/26/2009                                       NaN   Near Isiro, DemocratiRepubliCongo                  Service Air                 Goma - Isiro                              Antonov An-26                    9Q-CSA        4      4          NaN     The cargo plane crashed while on approach to I...\n",
      "06/01/2009                                       0:15  AtlantiOcean, 570 miles northeast of Natal, Brazil Air France                  Rio de Janeiro - Paris                    Airbus A330-203                  F-GZCP        228    228        0       The Airbus went missing over the AtlantiOcean ...\n",
      "06/07/2009                                       8:30  Near Port Hope Simpson, Newfoundland, Canada       Strait Air                  Lourdes de BlanSablon - Port Hope Simpson Britten-Norman BN-2A-27 Islander C-FJJR        1      1          0       The air ambulance crashed into hills while att...\n",
      ">>>>>>> ea9cce248f81730041f8858938a0313971237052 NaN   NaN                                                NaN                         NaN                                       NaN                              NaN           NaN    NaN        NaN                                                   NaN\n",
      "06/08/2009                                       NaN   State of Arunachal Pradesh, India                  Military - Indian Air Force Mechuka for Jorhat                        Antonov An-32                    NaN           13     13         0       The military transport went missing while en r...\n",
      "\n",
      "[605 rows x 1 columns]\n"
     ]
    }
   ],
   "source": [
    "import pandas as pd\n",
    "\n",
    "file= pd.read_csv('data/processed/COSC301_dataset - Sheet1.csv')\n",
    "print(file)"
   ]
  },
  {
   "cell_type": "code",
   "execution_count": null,
   "id": "07b97a23-88ee-4e63-b3a4-a40e9c447486",
   "metadata": {},
   "outputs": [],
   "source": []
  }
 ],
 "metadata": {
  "kernelspec": {
   "display_name": "Python 3",
   "language": "python",
   "name": "python3"
  },
  "language_info": {
   "codemirror_mode": {
    "name": "ipython",
    "version": 3
   },
   "file_extension": ".py",
   "mimetype": "text/x-python",
   "name": "python",
   "nbconvert_exporter": "python",
   "pygments_lexer": "ipython3",
   "version": "3.9.12"
  }
 },
 "nbformat": 4,
 "nbformat_minor": 5
}
