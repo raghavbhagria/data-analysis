{
 "cells": [
  {
   "cell_type": "code",
   "execution_count": null,
   "id": "4c111b44-dc4b-4f8a-986d-6a93c01660a2",
   "metadata": {},
   "outputs": [],
   "source": [
    "import pandas as pd\n",
    "file= pd.read_csv('/Users/raghavbhagria/Desktop/COSC301_dataset - Sheet1.csv')\n",
    "\n",
    "print(file)\n",
    "\n"
   ]
  }
 ],
 "metadata": {
  "kernelspec": {
   "display_name": "Python 3",
   "language": "python",
   "name": "python3"
  }
 },
 "nbformat": 4,
 "nbformat_minor": 5
}
